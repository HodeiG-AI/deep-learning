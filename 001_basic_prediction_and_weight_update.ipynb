{
 "cells": [
  {
   "cell_type": "code",
   "execution_count": 12,
   "id": "58bcb50c-fd4b-4359-91c8-6764d8eec5a4",
   "metadata": {},
   "outputs": [
    {
     "name": "stdout",
     "output_type": "stream",
     "text": [
      "Error: 0.040000\tPrediction: 1.0000\tDerivative: 0.4000\tWeight Delta: 0.0400\n",
      "Error: 0.014400\tPrediction: 0.9200\tDerivative: 0.2400\tWeight Delta: 0.0240\n",
      "Error: 0.005184\tPrediction: 0.8720\tDerivative: 0.1440\tWeight Delta: 0.0144\n",
      "Error: 0.001866\tPrediction: 0.8432\tDerivative: 0.0864\tWeight Delta: 0.0086\n",
      "Error: 0.000672\tPrediction: 0.8259\tDerivative: 0.0518\tWeight Delta: 0.0052\n",
      "Error: 0.000242\tPrediction: 0.8156\tDerivative: 0.0311\tWeight Delta: 0.0031\n",
      "Error: 0.000087\tPrediction: 0.8093\tDerivative: 0.0187\tWeight Delta: 0.0019\n",
      "Error: 0.000031\tPrediction: 0.8056\tDerivative: 0.0112\tWeight Delta: 0.0011\n",
      "Error: 0.000011\tPrediction: 0.8034\tDerivative: 0.0067\tWeight Delta: 0.0007\n",
      "Error: 0.000004\tPrediction: 0.8020\tDerivative: 0.0040\tWeight Delta: 0.0004\n",
      "Error: 0.000001\tPrediction: 0.8012\tDerivative: 0.0024\tWeight Delta: 0.0002\n",
      "Error: 0.000001\tPrediction: 0.8007\tDerivative: 0.0015\tWeight Delta: 0.0001\n",
      "Error: 0.000000\tPrediction: 0.8004\tDerivative: 0.0009\tWeight Delta: 0.0001\n",
      "Error: 0.000000\tPrediction: 0.8003\tDerivative: 0.0005\tWeight Delta: 0.0001\n",
      "Error: 0.000000\tPrediction: 0.8002\tDerivative: 0.0003\tWeight Delta: 0.0000\n",
      "Error: 0.000000\tPrediction: 0.8001\tDerivative: 0.0002\tWeight Delta: 0.0000\n",
      "Error: 0.000000\tPrediction: 0.8001\tDerivative: 0.0001\tWeight Delta: 0.0000\n",
      "Error: 0.000000\tPrediction: 0.8000\tDerivative: 0.0001\tWeight Delta: 0.0000\n",
      "Error: 0.000000\tPrediction: 0.8000\tDerivative: 0.0000\tWeight Delta: 0.0000\n",
      "Error: 0.000000\tPrediction: 0.8000\tDerivative: 0.0000\tWeight Delta: 0.0000\n"
     ]
    }
   ],
   "source": [
    "weight = 0.5\n",
    "goal_pred = 0.8\n",
    "input = 2\n",
    "alpha = 0.1\n",
    "for iteration in range(20):\n",
    "    pred = input * weight\n",
    "    error = (pred - goal_pred) ** 2\n",
    "    derivative = input * (pred - goal_pred)\n",
    "    weight_delta = alpha * derivative\n",
    "    weight -= weight_delta\n",
    "    print(\"Error: %.6f\\tPrediction: %.4f\\tDerivative: %.4f\\tWeight Delta: %.4f\" % (error, pred, derivative, weight_delta))"
   ]
  }
 ],
 "metadata": {
  "kernelspec": {
   "display_name": "Python 3 (ipykernel)",
   "language": "python",
   "name": "python3"
  },
  "language_info": {
   "codemirror_mode": {
    "name": "ipython",
    "version": 3
   },
   "file_extension": ".py",
   "mimetype": "text/x-python",
   "name": "python",
   "nbconvert_exporter": "python",
   "pygments_lexer": "ipython3",
   "version": "3.8.0"
  }
 },
 "nbformat": 4,
 "nbformat_minor": 5
}
